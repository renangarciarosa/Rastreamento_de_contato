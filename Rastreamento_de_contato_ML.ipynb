{
  "nbformat": 4,
  "nbformat_minor": 0,
  "metadata": {
    "colab": {
      "name": "Rastreamento_de contato_ML.ipynb",
      "provenance": [],
      "mount_file_id": "1ZTQwip8pJ1iOAuO3EYDl1HN_CbSy7x0O",
      "authorship_tag": "ABX9TyMwwec7FCiIyx0J6xNW/ZX5"
    },
    "kernelspec": {
      "name": "python3",
      "display_name": "Python 3"
    },
    "language_info": {
      "name": "python"
    },
    "accelerator": "GPU"
  },
  "cells": [
    {
      "cell_type": "markdown",
      "metadata": {
        "id": "fX9-N3YdAGn2"
      },
      "source": [
        "# Rastreamento de contato com aprendizado de máquina\n",
        "\n",
        "O rastreamento de contato é um processo usado pelos ministérios da saúde pública para ajudar a impedir a propagação de doenças infecciosas, como o COVID-19, dentro de uma comunidade. Neste projeto, apresentarei a tarefa de rastreamento de contatos com o aprendizado de máquina.\n",
        "\n",
        "# Como funciona o rastreamento de contatos de pessoas?\n",
        "Uma vez que uma pessoa é positiva para coronavírus, é muito importante identificar outras pessoas que possam ter sido infectadas pelos pacientes diagnosticados. Para identificar os infectados, as autoridades acompanham a atividade dos pacientes diagnosticados nos últimos 14 dias. Esse processo é chamado de rastreamento de contato. Dependendo do país e da autarquia local, a procura de contactos realiza-se quer por métodos manuais quer por métodos numéricos.\n",
        "\n",
        "Neste projeto, irei propor um algoritmo de rastreamento de contato digital que se baseia em dados de GPS, que pode ser usado no rastreamento de contato com aprendizado de máquina.\n",
        "\n",
        "# Rastreamento de contato com aprendizado de máquina\n",
        "DBSCAN é um algoritmo de agrupamento de dados baseado em densidade que agrupa pontos de dados em um determinado espaço. O algoritmo DBSCAN agrupa pontos de dados próximos uns dos outros e marca pontos de dados discrepantes como ruído. Vou usar o algoritmo DBSCAN para a tarefa de rastreamento de contatos com Machine Learning.\n",
        "\n",
        "O conjunto de dados que usarei nesta tarefa são dados JSON. Agora, vamos importar todas as bibliotecas de que precisamos para esta tarefa e começar a ler o conjunto de dados e explorar alguns insights dos dados:\n",
        "\n",
        "Primeiro, vamos importar todas as bibliotecas que usaremos. Precisaremos do Pandas e do Sklearn para processar os dados e do Pygal para exibi-los."
      ]
    },
    {
      "cell_type": "code",
      "metadata": {
        "colab": {
          "base_uri": "https://localhost:8080/"
        },
        "id": "ZZLNMUdiFEdA",
        "outputId": "6647cf08-7d18-4e56-bde2-125db0fe7ff7"
      },
      "source": [
        "!pip install pygal"
      ],
      "execution_count": null,
      "outputs": [
        {
          "output_type": "stream",
          "text": [
            "Requirement already satisfied: pygal in /usr/local/lib/python3.7/dist-packages (2.4.0)\n"
          ],
          "name": "stdout"
        }
      ]
    },
    {
      "cell_type": "code",
      "metadata": {
        "colab": {
          "base_uri": "https://localhost:8080/",
          "height": 204
        },
        "id": "d-u2ePHh_SS-",
        "outputId": "26264c0e-59bb-4a46-a9e0-173aa3b7e0f2"
      },
      "source": [
        "import numpy as np\n",
        "import pandas as pd\n",
        "import pygal\n",
        "import matplotlib.pyplot as plt\n",
        "import seaborn as sns\n",
        "%matplotlib inline\n",
        "import datetime as dt\n",
        "from sklearn.cluster import DBSCAN\n",
        "df = pd.read_json('livedata.json')\n",
        "df.head()\n"
      ],
      "execution_count": null,
      "outputs": [
        {
          "output_type": "execute_result",
          "data": {
            "text/html": [
              "<div>\n",
              "<style scoped>\n",
              "    .dataframe tbody tr th:only-of-type {\n",
              "        vertical-align: middle;\n",
              "    }\n",
              "\n",
              "    .dataframe tbody tr th {\n",
              "        vertical-align: top;\n",
              "    }\n",
              "\n",
              "    .dataframe thead th {\n",
              "        text-align: right;\n",
              "    }\n",
              "</style>\n",
              "<table border=\"1\" class=\"dataframe\">\n",
              "  <thead>\n",
              "    <tr style=\"text-align: right;\">\n",
              "      <th></th>\n",
              "      <th>id</th>\n",
              "      <th>timestamp</th>\n",
              "      <th>latitude</th>\n",
              "      <th>longitude</th>\n",
              "    </tr>\n",
              "  </thead>\n",
              "  <tbody>\n",
              "    <tr>\n",
              "      <th>0</th>\n",
              "      <td>David</td>\n",
              "      <td>2020-07-04 15:35:30</td>\n",
              "      <td>13.148953</td>\n",
              "      <td>77.593651</td>\n",
              "    </tr>\n",
              "    <tr>\n",
              "      <th>1</th>\n",
              "      <td>David</td>\n",
              "      <td>2020-07-04 16:35:30</td>\n",
              "      <td>13.222397</td>\n",
              "      <td>77.652828</td>\n",
              "    </tr>\n",
              "    <tr>\n",
              "      <th>2</th>\n",
              "      <td>Frank</td>\n",
              "      <td>2020-07-04 14:35:30</td>\n",
              "      <td>13.236507</td>\n",
              "      <td>77.693792</td>\n",
              "    </tr>\n",
              "    <tr>\n",
              "      <th>3</th>\n",
              "      <td>Carol</td>\n",
              "      <td>2020-07-04 21:35:30</td>\n",
              "      <td>13.163716</td>\n",
              "      <td>77.562842</td>\n",
              "    </tr>\n",
              "    <tr>\n",
              "      <th>4</th>\n",
              "      <td>Ivan</td>\n",
              "      <td>2020-07-04 22:35:30</td>\n",
              "      <td>13.232095</td>\n",
              "      <td>77.580273</td>\n",
              "    </tr>\n",
              "  </tbody>\n",
              "</table>\n",
              "</div>"
            ],
            "text/plain": [
              "      id           timestamp   latitude  longitude\n",
              "0  David 2020-07-04 15:35:30  13.148953  77.593651\n",
              "1  David 2020-07-04 16:35:30  13.222397  77.652828\n",
              "2  Frank 2020-07-04 14:35:30  13.236507  77.693792\n",
              "3  Carol 2020-07-04 21:35:30  13.163716  77.562842\n",
              "4   Ivan 2020-07-04 22:35:30  13.232095  77.580273"
            ]
          },
          "metadata": {},
          "execution_count": 56
        }
      ]
    },
    {
      "cell_type": "markdown",
      "metadata": {
        "id": "nOid76ylCBWq"
      },
      "source": [
        "Agora, vamos analisar o conjunto de dados usando o gráfico de dispersão mostrando os ids com suas latitudes e longitudes no eixo x e no eixo Y, respectivamente:"
      ]
    },
    {
      "cell_type": "code",
      "metadata": {
        "colab": {
          "base_uri": "https://localhost:8080/",
          "height": 388
        },
        "id": "28_8b2x9CCRy",
        "outputId": "6c5baaf6-c429-4320-82b1-e5a0bd4d2deb"
      },
      "source": [
        "plt.figure(figsize=(8,6))\n",
        "sns.scatterplot(x='latitude', y='longitude', data=df, hue='id')\n",
        "plt.legend(bbox_to_anchor= [1, 0.8])\n",
        "plt.show()"
      ],
      "execution_count": null,
      "outputs": [
        {
          "output_type": "display_data",
          "data": {
            "image/png": "[encoded data removed]",
            "text/plain": [
              "<Figure size 576x432 with 1 Axes>"
            ]
          },
          "metadata": {
            "needs_background": "light"
          }
        }
      ]
    },
    {
      "cell_type": "markdown",
      "metadata": {
        "id": "nMs4S7pzCQWB"
      },
      "source": [
        "# Criando um modelo para rastreamento de contato com aprendizado de máquina\n",
        "Agora vamos criar um modelo para rastreamento de contato usando o modelo DBSCAN. A função abaixo nos ajudará a criar o modelo DBSCAN, a partir desse modelo geraremos clusters, que ajudarão a identificar infecções filtrando os dados nos clusters:\n",
        "\n",
        "O algoritmo DBSCAN vê os clusters como áreas de alta densidade separadas por regiões de baixa densidade. Por causa disso, os clusters encontrados pelo DBSCAN podem ter qualquer formato, ao contrário de k-means, que assume que todos os clusters têm formato convexo.\n",
        "\n",
        "Sklearn tinha um algoritmo DBSCAN predefinido; tudo que você precisa fazer para usá-lo é conhecer três parâmetros:\n",
        "\n",
        "* eps: Este fator indica a distância entre os diferentes pontos no mesmo cluster. No nosso caso, usaremos a distância recomendada pelo CDC, que é 6 pés (ou 0,0018288 quilômetros).\n",
        "\n",
        "* min_samples: O número mínimo de amostras no cluster. No caso de conjuntos de dados grandes e barulhentos, aumente esse número.\n",
        "* métrica: define a métrica de distância entre os pontos de dados. Sklearn tem muitas métricas de distância, como euclidean, manhattan e Minkowski. Para nosso caso, entretanto, precisamos de uma medida de distância que descreva a distância em uma cifra (A Terra). A métrica para isso é chamada de haversine.\n",
        "\n",
        "Agora podemos aplicar nosso modelo ao conjunto de dados."
      ]
    },
    {
      "cell_type": "code",
      "metadata": {
        "id": "wFeHp2moCWO0"
      },
      "source": [
        "safe_distance = 0.0018288 # uma distância radial de 6 pés em quilômetros\n",
        "model = DBSCAN(eps=safe_distance, min_samples=2, metric='haversine').fit(df[['latitude', 'longitude']])\n",
        "core_samples_mask = np.zeros_like(model.labels_, dtype=bool)\n",
        "core_samples_mask[model.core_sample_indices_] = True\n",
        "labels = model.labels_\n",
        "df['Cluster'] = model.labels_.tolist()"
      ],
      "execution_count": null,
      "outputs": []
    },
    {
      "cell_type": "markdown",
      "metadata": {
        "id": "ANTrIHTyEofY"
      },
      "source": [
        "A aplicação do modelo com esses parâmetros leva a 18 clusters. Podemos exibir esses clusters usando este pedaço de código ..."
      ]
    },
    {
      "cell_type": "code",
      "metadata": {
        "id": "yudy_13sFSf2"
      },
      "source": [
        "# para visualizar os gráficos usando a biblioteca PYGAL, é necessário fazer este código abaixo\n",
        "\n",
        "from IPython.display import display, HTML\n",
        "base_html = \"\"\"\n",
        "<!DOCTYPE html>\n",
        "<html>\n",
        "  <head>\n",
        "  <script type=\"text/javascript\" src=\"http://kozea.github.com/pygal.js/javascripts/svg.jquery.js\"></script>\n",
        "  <script type=\"text/javascript\" src=\"https://kozea.github.io/pygal.js/2.0.x/pygal-tooltips.min.js\"\"></script>\n",
        "  </head>\n",
        "  <body>\n",
        "    <figure>\n",
        "      {rendered_chart}\n",
        "    </figure>\n",
        "  </body>\n",
        "</html>\n",
        "\"\"\""
      ],
      "execution_count": null,
      "outputs": []
    },
    {
      "cell_type": "code",
      "metadata": {
        "id": "-qSqbtt3EptH"
      },
      "source": [
        "disp_dict_clust = {}\n",
        "for index, row in df.iterrows():\n",
        "    if row['Cluster'] not in disp_dict_clust.keys():\n",
        "        disp_dict_clust[row['Cluster']] = [(row['latitude'], row['longitude'])]\n",
        "    else:\n",
        "        disp_dict_clust[row['Cluster']].append((row['latitude'], row['longitude']))\n",
        "print(len(disp_dict_clust.keys()))\n",
        "from pygal.style import LightenStyle\n",
        "dark_lighten_style = LightenStyle('#F35548')\n",
        "xy_chart = pygal.XY(stroke=False, style=dark_lighten_style)\n",
        "[xy_chart.add(str(k),v) for k,v in disp_dict_clust.items()]\n",
        "display(HTML(base_html.format(rendered_chart=xy_chart.render(is_unicode=True))))"
      ],
      "execution_count": null,
      "outputs": []
    },
    {
      "cell_type": "markdown",
      "metadata": {
        "id": "keYFNoEpFlQ1"
      },
      "source": [
        "Após a conclusão do algoritmo, se houver algum ponto de dados sem cluster, eles serão agrupados como ruído ou cluster -1. Freqüentemente, você descobrirá que todos os usuários neste conjunto de dados farão parte do cluster -1, além de outros clusters."
      ]
    },
    {
      "cell_type": "markdown",
      "metadata": {
        "id": "-y9ZcP3uFnSW"
      },
      "source": [
        "# Preveja pessoas infectadas.\n",
        "Se tivermos o nome de uma pessoa infectada, podemos usá-lo para obter todos os clusters dos quais essa pessoa faz parte. A partir daí, podemos ver outras pessoas nesses clusters. Essas pessoas terão uma probabilidade maior de serem infectadas do que aquelas que não o são.\n",
        "\n",
        "Obtenha todos os clusters aos quais uma pessoa específica pertence\n",
        "Dado um nome inputName, por exemplo, Frank, queremos todos os clusters dos quais Frank faz parte."
      ]
    },
    {
      "cell_type": "code",
      "metadata": {
        "id": "jAjyKZoQFyIV"
      },
      "source": [
        "def contactTracing(dataFrame, inputName):\n",
        "    #Verifique se o nome é válido\n",
        "    assert (inputName in df['id'].tolist()), \"Usuário não existe\"\n",
        "    #Distância social\n",
        "    safe_distance = 0.0018288 #6 feets in kilometers\n",
        "    #Aplique o modelo, no caso de um conjunto de dados maior ou ruidoso, aumente min_samples\n",
        "    model = DBSCAN(eps=safe_distance, min_samples=10, metric='haversine').fit(df[['latitude', 'longitude']])\n",
        "    #Obtenha clusters encontrados pelo algoritmo\n",
        "    labels = model.labels_\n",
        "    #Adicione os clusters ao dataframe\n",
        "    df['Cluster'] = model.labels_.tolist()\n",
        "    #Obtenha os clusters dos quais o inputName faz parte\n",
        "    inputNameClusters = set()\n",
        "    for i in range(len(dataFrame)):\n",
        "        if df['id'][i] == inputName:\n",
        "            inputNameClusters.add(df['Cluster'][i])\n",
        "   #Obtenha pessoas que estão no mesmo cluster que o inputName      \n",
        "    infected = set()\n",
        "    for cluster in inputNameClusters:\n",
        "        if cluster != -1: #contanto que não seja o cluster -1\n",
        "            namesInCluster = df.loc[dataFrame['Cluster'] == cluster, 'id'] #Obtenha todos os nomes do cluster\n",
        "            for i in range(len(namesInCluster)):\n",
        "              #localize cada nome no cluster\n",
        "                name = namesInCluster.iloc[i]\n",
        "                if name != inputName: #Não quero adicionar a entrada aos resultados\n",
        "                    infected.add(name)\n",
        "    print(\"As infecções potenciais são:\",*infected,sep=\"\\n\" )\n",
        "\n",
        "\n"
      ],
      "execution_count": null,
      "outputs": []
    },
    {
      "cell_type": "code",
      "metadata": {
        "colab": {
          "base_uri": "https://localhost:8080/"
        },
        "id": "QG0Z280ZJCs5",
        "outputId": "5b896cf4-b3e3-4419-a6f5-e982a7d4fa6b"
      },
      "source": [
        "print(contactTracing(df,'Frank'))"
      ],
      "execution_count": null,
      "outputs": [
        {
          "output_type": "stream",
          "text": [
            "As infecções potenciais são:\n",
            "None\n"
          ],
          "name": "stdout"
        }
      ]
    },
    {
      "cell_type": "markdown",
      "metadata": {
        "id": "482Xf35UL583"
      },
      "source": [
        "# Conclusão\n",
        "Rastreamento de contato de pessoas é uma das maneiras pelas quais podemos usar a tecnologia para salvar a vida das pessoas e fornecer tratamento o mais rápido possível. O governo e os profissionais da área médica freqüentemente têm acesso aos locais de GPS de alguns pacientes. O processo que percorremos neste artigo é fundamentalmente o mesmo que eles seguem para obter infecções em potencial. Felizmente, graças a bibliotecas como Sklearn, podemos usar modelos predefinidos em nossos conjuntos de dados e obter resultados com poucas linhas de código."
      ]
    }
  ]
}
